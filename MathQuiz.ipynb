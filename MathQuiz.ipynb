{
 "cells": [
  {
   "cell_type": "code",
   "execution_count": 5,
   "id": "19c18d2b-f247-4ae6-9544-5352e03c0df3",
   "metadata": {},
   "outputs": [
    {
     "name": "stdout",
     "output_type": "stream",
     "text": [
      "LET's START MATH QUIZ✍️\n",
      "your question is here 490 + 427\n"
     ]
    },
    {
     "name": "stdin",
     "output_type": "stream",
     "text": [
      "answer here:🫸 917\n"
     ]
    },
    {
     "name": "stdout",
     "output_type": "stream",
     "text": [
      "right😃\n",
      "\n",
      "LET's START MATH QUIZ✍️\n",
      "your question is here 315 * 220\n"
     ]
    },
    {
     "name": "stdin",
     "output_type": "stream",
     "text": [
      "answer here:🫸 4456\n"
     ]
    },
    {
     "name": "stdout",
     "output_type": "stream",
     "text": [
      "your answer is incorrect🤔 and your score is=1\n"
     ]
    }
   ],
   "source": [
    "# eval=default function.\n",
    "import random\n",
    "score=0\n",
    "while(True):\n",
    "    a=random.randrange(1,500)\n",
    "    b=random.randrange(1,500)\n",
    "    c=[\"+\",\"-\",\"*\",'/']\n",
    "    d=random.choice(c)\n",
    "    print(\"LET's START MATH QUIZ✍️\")\n",
    "    question=print(f'your question is here {a} {d} {b}')\n",
    "    e=eval(str(a)+d+str(b))\n",
    "    var1=float(input(\"answer here:🫸\"))\n",
    "    if (c=='/'):\n",
    "        if int(var1)==int(e):\n",
    "            print(\"right😃\\n\")\n",
    "            score+=1\n",
    "        else:\n",
    "            print(f'your answer is incorrect🤔 and your score is:{score}')\n",
    "            break\n",
    "    else:\n",
    "        if var1==e:\n",
    "            print(\"right😃\\n\")\n",
    "            score+=1\n",
    "        else:\n",
    "            print(f'your answer is incorrect🤔 and your score is={score}')\n",
    "            break"
   ]
  },
  {
   "cell_type": "code",
   "execution_count": 1,
   "id": "7c83685d-e6a0-4f8c-aaac-1477e9c6418b",
   "metadata": {},
   "outputs": [
    {
     "data": {
      "text/plain": [
       "12"
      ]
     },
     "execution_count": 1,
     "metadata": {},
     "output_type": "execute_result"
    }
   ],
   "source": [
    "x=lambda a,b:a*b\n",
    "x(3,4)"
   ]
  },
  {
   "cell_type": "code",
   "execution_count": 24,
   "id": "e2ea864b-60c1-403c-9995-4a9c047869f2",
   "metadata": {},
   "outputs": [
    {
     "data": {
      "text/plain": [
       "[4, 6, 8, 12]"
      ]
     },
     "execution_count": 24,
     "metadata": {},
     "output_type": "execute_result"
    }
   ],
   "source": [
    "#Q1)with the help of lambda function just find out the no is even or not\n",
    "#Q2)with the help of lambda function calculate simple intrest\n",
    "#lambda=kisi bhi fun ko simple expression mein create kar sakte hai\n",
    "#syntax of filter\n",
    "#filter=(function,iterable)\n",
    "#we used filter function with lambda function to filter element in  an iterable based on certain condition\n",
    "l1=[1,5,4,6,8,11,3,12]\n",
    "x=list(filter(lambda num:(num % 2==0),l1))\n",
    "x"
   ]
  },
  {
   "cell_type": "code",
   "execution_count": 14,
   "id": "df3feb81-1958-45bd-87b4-fb13c23ab748",
   "metadata": {},
   "outputs": [
    {
     "data": {
      "text/plain": [
       "2560.0"
      ]
     },
     "execution_count": 14,
     "metadata": {},
     "output_type": "execute_result"
    }
   ],
   "source": [
    "si=lambda p,r,t:(p*r*t)/100\n",
    "si(16000,8,2)"
   ]
  },
  {
   "cell_type": "code",
   "execution_count": 28,
   "id": "558da9b3-e3b7-4d25-aa75-af629c5002df",
   "metadata": {},
   "outputs": [
    {
     "data": {
      "text/plain": [
       "[2, 6, 10, 14, 18, 22, 26]"
      ]
     },
     "execution_count": 28,
     "metadata": {},
     "output_type": "execute_result"
    }
   ],
   "source": [
    "#map func=it approach every element\n",
    "l2=[1,3,5,7,9,11,13]\n",
    "double=list(map(lambda x:x*2,l2))\n",
    "double"
   ]
  },
  {
   "cell_type": "code",
   "execution_count": 40,
   "id": "f17496e7-7fe5-40c3-90f0-997f748ae2cd",
   "metadata": {},
   "outputs": [
    {
     "data": {
      "text/plain": [
       "['ravi', 'yuvi']"
      ]
     },
     "execution_count": 40,
     "metadata": {},
     "output_type": "execute_result"
    }
   ],
   "source": [
    "# Q3)we have a list which contain five element[ravi,priyansh,yuvi,himanshu,abhishek]just filter out\n",
    "#words with less then five character.\n",
    "l1=['ravi','priyansh','yuvi','himanshu','abhishek']\n",
    "x=list(filter(lambda a:(len(a)<5),l1))\n",
    "x"
   ]
  },
  {
   "cell_type": "code",
   "execution_count": 65,
   "id": "e23e591f-fa31-444f-a0a2-ba7527d8b9cd",
   "metadata": {},
   "outputs": [
    {
     "name": "stdout",
     "output_type": "stream",
     "text": [
      "Prime numbers between 1 and 50 are: [2, 3, 5, 7, 11, 13, 17, 19, 23, 29, 31, 37, 41, 43, 47]\n"
     ]
    }
   ],
   "source": [
    "i=2\n",
    "primes=[]\n",
    "while (i<=50):\n",
    "    is_prime=True\n",
    "    j=2\n",
    "    while j*j<=i:\n",
    "        if i % j==0:\n",
    "            is_prime=False\n",
    "            break\n",
    "        j+=1\n",
    "    if is_prime:\n",
    "        primes.append(i)\n",
    "    i+=1\n",
    "print(\"Prime numbers between 1 and 50 are:\", primes)"
   ]
  },
  {
   "cell_type": "code",
   "execution_count": null,
   "id": "643e44a5-624e-4474-995c-47bf2e171644",
   "metadata": {},
   "outputs": [],
   "source": []
  }
 ],
 "metadata": {
  "kernelspec": {
   "display_name": "Python 3 (ipykernel)",
   "language": "python",
   "name": "python3"
  },
  "language_info": {
   "codemirror_mode": {
    "name": "ipython",
    "version": 3
   },
   "file_extension": ".py",
   "mimetype": "text/x-python",
   "name": "python",
   "nbconvert_exporter": "python",
   "pygments_lexer": "ipython3",
   "version": "3.12.4"
  }
 },
 "nbformat": 4,
 "nbformat_minor": 5
}
